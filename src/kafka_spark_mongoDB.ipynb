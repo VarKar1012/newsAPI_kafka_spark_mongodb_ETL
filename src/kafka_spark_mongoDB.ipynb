{
 "cells": [
  {
   "cell_type": "code",
   "execution_count": 1,
   "id": "1113607a-e691-44e4-8dff-887219fb3dd6",
   "metadata": {},
   "outputs": [],
   "source": [
    "from pyspark.sql import SparkSession\n",
    "from pyspark.sql.types import *\n",
    "from pyspark.sql.functions import *"
   ]
  },
  {
   "cell_type": "code",
   "execution_count": 2,
   "id": "394986be-4477-4a23-8791-d28f5b23f2a3",
   "metadata": {},
   "outputs": [
    {
     "name": "stderr",
     "output_type": "stream",
     "text": [
      "24/07/19 10:52:37 WARN Utils: Your hostname, varna-IdeaPad-Flex-5-14ALC05 resolves to a loopback address: 127.0.1.1; using 192.168.18.227 instead (on interface wlp2s0)\n",
      "24/07/19 10:52:37 WARN Utils: Set SPARK_LOCAL_IP if you need to bind to another address\n",
      "https://repo.maven.apache.org/maven2 added as a remote repository with the name: repo-1\n"
     ]
    },
    {
     "name": "stdout",
     "output_type": "stream",
     "text": [
      ":: loading settings :: url = jar:file:/home/varna/hadoop/spark/spark-3.2.4-bin-hadoop3.2/jars/ivy-2.5.1.jar!/org/apache/ivy/core/settings/ivysettings.xml\n"
     ]
    },
    {
     "name": "stderr",
     "output_type": "stream",
     "text": [
      "Ivy Default Cache set to: /home/varna/.ivy2/cache\n",
      "The jars for the packages stored in: /home/varna/.ivy2/jars\n",
      "org.apache.spark#spark-sql-kafka-0-10_2.12 added as a dependency\n",
      "org.mongodb.spark#mongo-spark-connector_2.12 added as a dependency\n",
      "org.mongodb#mongodb-driver-sync added as a dependency\n",
      ":: resolving dependencies :: org.apache.spark#spark-submit-parent-0e94ce4b-96c6-4c44-9cb2-2767835db990;1.0\n",
      "\tconfs: [default]\n",
      "\tfound org.apache.spark#spark-sql-kafka-0-10_2.12;3.2.4 in central\n",
      "\tfound org.apache.spark#spark-token-provider-kafka-0-10_2.12;3.2.4 in central\n",
      "\tfound org.apache.kafka#kafka-clients;2.8.1 in central\n",
      "\tfound org.lz4#lz4-java;1.7.1 in central\n",
      "\tfound org.xerial.snappy#snappy-java;1.1.8.4 in central\n",
      "\tfound org.slf4j#slf4j-api;1.7.30 in central\n",
      "\tfound org.apache.hadoop#hadoop-client-runtime;3.3.1 in central\n",
      "\tfound org.spark-project.spark#unused;1.0.0 in central\n",
      "\tfound org.apache.hadoop#hadoop-client-api;3.3.1 in central\n",
      "\tfound org.apache.htrace#htrace-core4;4.1.0-incubating in central\n",
      "\tfound commons-logging#commons-logging;1.1.3 in central\n",
      "\tfound com.google.code.findbugs#jsr305;3.0.0 in central\n",
      "\tfound org.apache.commons#commons-pool2;2.6.2 in central\n",
      "\tfound org.mongodb.spark#mongo-spark-connector_2.12;10.1.1 in central\n",
      "\tfound org.mongodb#mongodb-driver-sync;4.8.2 in central\n",
      "\t[4.8.2] org.mongodb#mongodb-driver-sync;[4.8.1,4.8.99)\n",
      "\tfound org.mongodb#mongodb-driver-sync;4.9.1 in central\n",
      "\tfound org.mongodb#bson;4.9.1 in central\n",
      "\tfound org.mongodb#mongodb-driver-core;4.9.1 in central\n",
      "\tfound org.mongodb#bson-record-codec;4.9.1 in central\n",
      ":: resolution report :: resolve 2837ms :: artifacts dl 29ms\n",
      "\t:: modules in use:\n",
      "\tcom.google.code.findbugs#jsr305;3.0.0 from central in [default]\n",
      "\tcommons-logging#commons-logging;1.1.3 from central in [default]\n",
      "\torg.apache.commons#commons-pool2;2.6.2 from central in [default]\n",
      "\torg.apache.hadoop#hadoop-client-api;3.3.1 from central in [default]\n",
      "\torg.apache.hadoop#hadoop-client-runtime;3.3.1 from central in [default]\n",
      "\torg.apache.htrace#htrace-core4;4.1.0-incubating from central in [default]\n",
      "\torg.apache.kafka#kafka-clients;2.8.1 from central in [default]\n",
      "\torg.apache.spark#spark-sql-kafka-0-10_2.12;3.2.4 from central in [default]\n",
      "\torg.apache.spark#spark-token-provider-kafka-0-10_2.12;3.2.4 from central in [default]\n",
      "\torg.lz4#lz4-java;1.7.1 from central in [default]\n",
      "\torg.mongodb#bson;4.9.1 from central in [default]\n",
      "\torg.mongodb#bson-record-codec;4.9.1 from central in [default]\n",
      "\torg.mongodb#mongodb-driver-core;4.9.1 from central in [default]\n",
      "\torg.mongodb#mongodb-driver-sync;4.9.1 from central in [default]\n",
      "\torg.mongodb.spark#mongo-spark-connector_2.12;10.1.1 from central in [default]\n",
      "\torg.slf4j#slf4j-api;1.7.30 from central in [default]\n",
      "\torg.spark-project.spark#unused;1.0.0 from central in [default]\n",
      "\torg.xerial.snappy#snappy-java;1.1.8.4 from central in [default]\n",
      "\t:: evicted modules:\n",
      "\torg.mongodb#mongodb-driver-sync;4.8.2 by [org.mongodb#mongodb-driver-sync;4.9.1] in [default]\n",
      "\t---------------------------------------------------------------------\n",
      "\t|                  |            modules            ||   artifacts   |\n",
      "\t|       conf       | number| search|dwnlded|evicted|| number|dwnlded|\n",
      "\t---------------------------------------------------------------------\n",
      "\t|      default     |   19  |   1   |   0   |   1   ||   18  |   0   |\n",
      "\t---------------------------------------------------------------------\n",
      "\n",
      ":: problems summary ::\n",
      ":::: ERRORS\n",
      "\tServer access error at url https://repos.spark-packages.org/org/mongodb/mongodb-driver-sync/maven-metadata.xml (javax.net.ssl.SSLException: Received close_notify during handshake)\n",
      "\n",
      "\tServer access error at url https://repos.spark-packages.org/org/mongodb/mongodb-driver-sync/ (javax.net.ssl.SSLException: Received close_notify during handshake)\n",
      "\n",
      "\tServer access error at url https://repos.spark-packages.org/org/mongodb/mongodb-driver-sync/ (javax.net.ssl.SSLException: Received close_notify during handshake)\n",
      "\n",
      "\n",
      ":: USE VERBOSE OR DEBUG MESSAGE LEVEL FOR MORE DETAILS\n",
      ":: retrieving :: org.apache.spark#spark-submit-parent-0e94ce4b-96c6-4c44-9cb2-2767835db990\n",
      "\tconfs: [default]\n",
      "\t0 artifacts copied, 18 already retrieved (0kB/11ms)\n",
      "24/07/19 10:52:46 WARN NativeCodeLoader: Unable to load native-hadoop library for your platform... using builtin-java classes where applicable\n",
      "Using Spark's default log4j profile: org/apache/spark/log4j-defaults.properties\n",
      "Setting default log level to \"WARN\".\n",
      "To adjust logging level use sc.setLogLevel(newLevel). For SparkR, use setLogLevel(newLevel).\n",
      "24/07/19 10:52:47 WARN Utils: Service 'SparkUI' could not bind on port 4040. Attempting port 4041.\n"
     ]
    }
   ],
   "source": [
    "packages = [\"org.apache.spark:spark-sql-kafka-0-10_2.12:3.2.4\",\n",
    "            \"org.mongodb.spark:mongo-spark-connector_2.12:10.1.1\",\n",
    "            \"org.mongodb:mongodb-driver-sync:4.9.1\"\n",
    "           ]\n",
    "# create spark session\n",
    "spark = SparkSession.builder\\\n",
    "    .appName('kafka_spark_consumer')\\\n",
    "    .master('local[2]')\\\n",
    "    .config(\"spark.jars.packages\", \",\".join(packages)) \\\n",
    "    .config(\"spark.jars.repositories\", \"https://repo.maven.apache.org/maven2\") \\\n",
    "    .getOrCreate()\n",
    "\n",
    "spark.sparkContext.setLogLevel('ERROR')"
   ]
  },
  {
   "cell_type": "code",
   "execution_count": 3,
   "id": "373cbfc5-ab9f-433f-8ed0-f81a0ee99255",
   "metadata": {},
   "outputs": [],
   "source": [
    "# make a spark connection with kafka topic to read dstreams\n",
    "KAFKA_TOPIC = 'newsTopic3'\n",
    "KAFKA_BOOTSTRAP_SERVER = 'localhost:9092'\n",
    "\n",
    "stream_df = spark.readStream\\\n",
    "    .format(\"kafka\")\\\n",
    "    .option(\"kafka.bootstrap.servers\", KAFKA_BOOTSTRAP_SERVER)\\\n",
    "    .option(\"subscribe\", KAFKA_TOPIC)\\\n",
    "    .option(\"startingOffsets\", \"earliest\")\\\n",
    "    .load()"
   ]
  },
  {
   "cell_type": "code",
   "execution_count": 4,
   "id": "16227efc-a4fe-473e-87a3-9585b3c75c69",
   "metadata": {},
   "outputs": [
    {
     "data": {
      "text/plain": [
       "DataFrame[value: string, timestamp: timestamp]"
      ]
     },
     "execution_count": 4,
     "metadata": {},
     "output_type": "execute_result"
    }
   ],
   "source": [
    "news_df = stream_df.selectExpr(\"CAST(value as STRING)\", \"timestamp\")\n",
    "news_df"
   ]
  },
  {
   "cell_type": "code",
   "execution_count": 5,
   "id": "a8de246b-1f4f-43eb-a7ca-5383a27e2e6f",
   "metadata": {},
   "outputs": [
    {
     "data": {
      "text/plain": [
       "DataFrame[author: string, title: string, description: string, timestamp: timestamp]"
      ]
     },
     "execution_count": 5,
     "metadata": {},
     "output_type": "execute_result"
    }
   ],
   "source": [
    "# applying new schema\n",
    "news_schema = StructType([\n",
    "    StructField('author', StringType()),\n",
    "    StructField('title', StringType()),\n",
    "    StructField('description', StringType()),\n",
    "])\n",
    "\n",
    "news_info_df = news_df.select(from_json(col(\"value\"), news_schema).alias(\"news_info\"), \"timestamp\")\\\n",
    "    .select('news_info.*', \"timestamp\")\n",
    "news_info_df"
   ]
  },
  {
   "cell_type": "code",
   "execution_count": null,
   "id": "bb74f892-83d5-4cfc-9bb2-17ac759d8e88",
   "metadata": {},
   "outputs": [],
   "source": [
    "# write data stream to mongodb.\n",
    "query = news_info_df.writeStream\\\n",
    "    .format(\"mongodb\")\\\n",
    "    .option(\"spark.mongodb.connection.uri\", \"mongodb://localhost:27017/?directConnection=true\") \\\n",
    "    .option(\"spark.mongodb.database\", \"new\") \\\n",
    "    .option(\"spark.mongodb.collection\", \"news\") \\\n",
    "    .option(\"checkpointLocation\", \"checkpoint/chk1\")\\\n",
    "    .start()\n",
    "\n",
    "query.awaitTermination()"
   ]
  },
  {
   "cell_type": "code",
   "execution_count": null,
   "id": "27697517-964e-4e1a-8891-340c549608b4",
   "metadata": {},
   "outputs": [],
   "source": []
  }
 ],
 "metadata": {
  "kernelspec": {
   "display_name": "Python 3 (ipykernel)",
   "language": "python",
   "name": "python3"
  },
  "language_info": {
   "codemirror_mode": {
    "name": "ipython",
    "version": 3
   },
   "file_extension": ".py",
   "mimetype": "text/x-python",
   "name": "python",
   "nbconvert_exporter": "python",
   "pygments_lexer": "ipython3",
   "version": "3.11.9"
  }
 },
 "nbformat": 4,
 "nbformat_minor": 5
}
